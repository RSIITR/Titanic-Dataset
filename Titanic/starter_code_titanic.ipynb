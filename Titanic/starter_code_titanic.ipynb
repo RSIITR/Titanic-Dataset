{
 "cells": [
  {
   "cell_type": "markdown",
   "metadata": {},
   "source": [
    "# Starter code to approach the Titanic dataset with a different perspective"
   ]
  },
  {
   "cell_type": "code",
   "execution_count": 1,
   "metadata": {},
   "outputs": [
    {
     "name": "stderr",
     "output_type": "stream",
     "text": [
      "Using TensorFlow backend.\n"
     ]
    }
   ],
   "source": [
    "import pandas as pd\n",
    "import numpy as np\n",
    "from keras import Sequential\n",
    "from keras.layers import Dense\n",
    "from sklearn.preprocessing import  MinMaxScaler\n",
    "from keras.wrappers.scikit_learn import KerasClassifier # keras in-built classifier function "
   ]
  },
  {
   "cell_type": "code",
   "execution_count": 2,
   "metadata": {
    "_cell_guid": "79c7e3d0-c299-4dcb-8224-4455121ee9b0",
    "_uuid": "d629ff2d2480ee46fbb7e2d37f6b5fab8052498a"
   },
   "outputs": [],
   "source": [
    "df = pd.read_csv('../input/train.csv')\n",
    "df1 = pd.read_csv('../input/test.csv')"
   ]
  },
  {
   "cell_type": "code",
   "execution_count": 3,
   "metadata": {},
   "outputs": [
    {
     "data": {
      "text/html": [
       "<div>\n",
       "<style scoped>\n",
       "    .dataframe tbody tr th:only-of-type {\n",
       "        vertical-align: middle;\n",
       "    }\n",
       "\n",
       "    .dataframe tbody tr th {\n",
       "        vertical-align: top;\n",
       "    }\n",
       "\n",
       "    .dataframe thead th {\n",
       "        text-align: right;\n",
       "    }\n",
       "</style>\n",
       "<table border=\"1\" class=\"dataframe\">\n",
       "  <thead>\n",
       "    <tr style=\"text-align: right;\">\n",
       "      <th></th>\n",
       "      <th>PassengerId</th>\n",
       "      <th>Survived</th>\n",
       "      <th>Pclass</th>\n",
       "      <th>Name</th>\n",
       "      <th>Sex</th>\n",
       "      <th>Age</th>\n",
       "      <th>SibSp</th>\n",
       "      <th>Parch</th>\n",
       "      <th>Ticket</th>\n",
       "      <th>Fare</th>\n",
       "      <th>Cabin</th>\n",
       "      <th>Embarked</th>\n",
       "    </tr>\n",
       "  </thead>\n",
       "  <tbody>\n",
       "    <tr>\n",
       "      <th>0</th>\n",
       "      <td>1</td>\n",
       "      <td>0</td>\n",
       "      <td>3</td>\n",
       "      <td>Braund, Mr. Owen Harris</td>\n",
       "      <td>male</td>\n",
       "      <td>22.0</td>\n",
       "      <td>1</td>\n",
       "      <td>0</td>\n",
       "      <td>A/5 21171</td>\n",
       "      <td>7.2500</td>\n",
       "      <td>NaN</td>\n",
       "      <td>S</td>\n",
       "    </tr>\n",
       "    <tr>\n",
       "      <th>1</th>\n",
       "      <td>2</td>\n",
       "      <td>1</td>\n",
       "      <td>1</td>\n",
       "      <td>Cumings, Mrs. John Bradley (Florence Briggs Th...</td>\n",
       "      <td>female</td>\n",
       "      <td>38.0</td>\n",
       "      <td>1</td>\n",
       "      <td>0</td>\n",
       "      <td>PC 17599</td>\n",
       "      <td>71.2833</td>\n",
       "      <td>C85</td>\n",
       "      <td>C</td>\n",
       "    </tr>\n",
       "    <tr>\n",
       "      <th>2</th>\n",
       "      <td>3</td>\n",
       "      <td>1</td>\n",
       "      <td>3</td>\n",
       "      <td>Heikkinen, Miss. Laina</td>\n",
       "      <td>female</td>\n",
       "      <td>26.0</td>\n",
       "      <td>0</td>\n",
       "      <td>0</td>\n",
       "      <td>STON/O2. 3101282</td>\n",
       "      <td>7.9250</td>\n",
       "      <td>NaN</td>\n",
       "      <td>S</td>\n",
       "    </tr>\n",
       "    <tr>\n",
       "      <th>3</th>\n",
       "      <td>4</td>\n",
       "      <td>1</td>\n",
       "      <td>1</td>\n",
       "      <td>Futrelle, Mrs. Jacques Heath (Lily May Peel)</td>\n",
       "      <td>female</td>\n",
       "      <td>35.0</td>\n",
       "      <td>1</td>\n",
       "      <td>0</td>\n",
       "      <td>113803</td>\n",
       "      <td>53.1000</td>\n",
       "      <td>C123</td>\n",
       "      <td>S</td>\n",
       "    </tr>\n",
       "    <tr>\n",
       "      <th>4</th>\n",
       "      <td>5</td>\n",
       "      <td>0</td>\n",
       "      <td>3</td>\n",
       "      <td>Allen, Mr. William Henry</td>\n",
       "      <td>male</td>\n",
       "      <td>35.0</td>\n",
       "      <td>0</td>\n",
       "      <td>0</td>\n",
       "      <td>373450</td>\n",
       "      <td>8.0500</td>\n",
       "      <td>NaN</td>\n",
       "      <td>S</td>\n",
       "    </tr>\n",
       "  </tbody>\n",
       "</table>\n",
       "</div>"
      ],
      "text/plain": [
       "   PassengerId  Survived  Pclass  \\\n",
       "0            1         0       3   \n",
       "1            2         1       1   \n",
       "2            3         1       3   \n",
       "3            4         1       1   \n",
       "4            5         0       3   \n",
       "\n",
       "                                                Name     Sex   Age  SibSp  \\\n",
       "0                            Braund, Mr. Owen Harris    male  22.0      1   \n",
       "1  Cumings, Mrs. John Bradley (Florence Briggs Th...  female  38.0      1   \n",
       "2                             Heikkinen, Miss. Laina  female  26.0      0   \n",
       "3       Futrelle, Mrs. Jacques Heath (Lily May Peel)  female  35.0      1   \n",
       "4                           Allen, Mr. William Henry    male  35.0      0   \n",
       "\n",
       "   Parch            Ticket     Fare Cabin Embarked  \n",
       "0      0         A/5 21171   7.2500   NaN        S  \n",
       "1      0          PC 17599  71.2833   C85        C  \n",
       "2      0  STON/O2. 3101282   7.9250   NaN        S  \n",
       "3      0            113803  53.1000  C123        S  \n",
       "4      0            373450   8.0500   NaN        S  "
      ]
     },
     "execution_count": 3,
     "metadata": {},
     "output_type": "execute_result"
    }
   ],
   "source": [
    "df.head()"
   ]
  },
  {
   "cell_type": "code",
   "execution_count": 4,
   "metadata": {},
   "outputs": [],
   "source": [
    "X = df.drop(columns = ['PassengerId', 'Ticket', 'Survived', 'Cabin'])# Id and Ticket are least likely to show any trend which is useful for the prediction. Cabin is missing a lot of values and can't contribute efficiently in predicting 'Survived'.\n",
    "y = df['Survived'] # Label which is to be predicted using features X."
   ]
  },
  {
   "cell_type": "markdown",
   "metadata": {},
   "source": [
    "# Preprocessing"
   ]
  },
  {
   "cell_type": "code",
   "execution_count": 5,
   "metadata": {},
   "outputs": [],
   "source": [
    "def preprocessing(X, y):\n",
    "    title = []\n",
    "    for i in range(X.shape[0]):\n",
    "        title.append(X['Name'][i].split(', ')[1].split('.')[0]) # extracting designations from name column.\n",
    "    X['Title'] = title\n",
    "    # Following 4 lines are to classify the designations into most common and rare ones.\n",
    "    X['Title'] = X['Title'].replace(['Lady', 'the Countess','Capt', 'Col','Don', 'Dr', 'Major', 'Rev', 'Sir', 'Jonkheer', 'Dona'], 'Rare')\n",
    "    X['Title'] = X['Title'].replace('Mlle', 'Miss')\n",
    "    X['Title'] = X['Title'].replace('Ms', 'Miss')\n",
    "    X['Title'] = X['Title'].replace('Mme', 'Mrs')\n",
    "    X = X.drop(columns = ['Name'])\n",
    "    # Following for loop replaces the missing values of a column by the mean of existing values or their mode value depending on their datatypes(int and float => mean, object => mode).\n",
    "    for i in X:\n",
    "        if X[i].dtype == 'int64':\n",
    "            X[i].fillna(X[i].mean(), inplace = True)\n",
    "        elif X[i].dtype == 'float64':\n",
    "            X[i].fillna(X[i].mean(), inplace = True)\n",
    "        else:\n",
    "            X[i].fillna(X[i].mode()[0], inplace = True)\n",
    "    X = pd.get_dummies(X) # One-Hot Encoding of X,i.e., columns with object data types will be converted into an array of 1s and 0s, representing their presence along a row.\n",
    "    sc= MinMaxScaler() # Scaling inputs is always an advantageous thing to do as it can increase the accuracy of the model by a considerable extent. \n",
    "    # MinMaxScaler scales using the logic: X = (X - X.min())/(X.max() - X.min()).\n",
    "    X= sc.fit_transform(X)\n",
    "    y= y.values.reshape(-1,1)\n",
    "    y=sc.fit_transform(y)\n",
    "    return X, y            "
   ]
  },
  {
   "cell_type": "code",
   "execution_count": 6,
   "metadata": {},
   "outputs": [],
   "source": [
    "X, y = preprocessing(X, y)"
   ]
  },
  {
   "cell_type": "code",
   "execution_count": 7,
   "metadata": {},
   "outputs": [
    {
     "data": {
      "text/plain": [
       "(891, 15)"
      ]
     },
     "execution_count": 7,
     "metadata": {},
     "output_type": "execute_result"
    }
   ],
   "source": [
    "X.shape"
   ]
  },
  {
   "cell_type": "markdown",
   "metadata": {},
   "source": [
    "# Defining the model "
   ]
  },
  {
   "cell_type": "code",
   "execution_count": 8,
   "metadata": {},
   "outputs": [],
   "source": [
    "# building the constituents of our classifier model,defining the number of hidden layers, number of nodes and activation function in each of them.\n",
    "def build_classifier():\n",
    "    classifier = Sequential()\n",
    "    classifier.add(Dense(units=15, input_dim=15))\n",
    "    classifier.add(Dense(units=50))\n",
    "    classifier.add(Dense(units = 50))\n",
    "    classifier.add(Dense(units = 50))\n",
    "    classifier.add(Dense(units=1, activation = 'relu'))\n",
    "    classifier.compile(optimizer='adam', loss='mean_absolute_error',  metrics=['mae','accuracy']) # optimizer: adam works on minizing our loss function.\n",
    "    return classifier"
   ]
  },
  {
   "cell_type": "code",
   "execution_count": 9,
   "metadata": {},
   "outputs": [],
   "source": [
    "classifier = KerasClassifier(build_fn=build_classifier, batch_size=60,epochs=35) # defining the model."
   ]
  },
  {
   "cell_type": "code",
   "execution_count": 10,
   "metadata": {},
   "outputs": [
    {
     "name": "stdout",
     "output_type": "stream",
     "text": [
      "Epoch 1/35\n",
      "891/891 [==============================] - 1s 627us/step - loss: 0.2984 - mean_absolute_error: 0.2984 - acc: 0.7127\n",
      "Epoch 2/35\n",
      "891/891 [==============================] - 0s 28us/step - loss: 0.2590 - mean_absolute_error: 0.2590 - acc: 0.7789\n",
      "Epoch 3/35\n",
      "891/891 [==============================] - 0s 28us/step - loss: 0.2412 - mean_absolute_error: 0.2412 - acc: 0.7856\n",
      "Epoch 4/35\n",
      "891/891 [==============================] - 0s 28us/step - loss: 0.2241 - mean_absolute_error: 0.2241 - acc: 0.7879\n",
      "Epoch 5/35\n",
      "891/891 [==============================] - 0s 28us/step - loss: 0.2174 - mean_absolute_error: 0.2174 - acc: 0.7868\n",
      "Epoch 6/35\n",
      "891/891 [==============================] - 0s 28us/step - loss: 0.2217 - mean_absolute_error: 0.2217 - acc: 0.7868\n",
      "Epoch 7/35\n",
      "891/891 [==============================] - 0s 28us/step - loss: 0.2233 - mean_absolute_error: 0.2233 - acc: 0.7890\n",
      "Epoch 8/35\n",
      "891/891 [==============================] - 0s 29us/step - loss: 0.2211 - mean_absolute_error: 0.2211 - acc: 0.7901\n",
      "Epoch 9/35\n",
      "891/891 [==============================] - 0s 27us/step - loss: 0.2190 - mean_absolute_error: 0.2190 - acc: 0.7901\n",
      "Epoch 10/35\n",
      "891/891 [==============================] - 0s 28us/step - loss: 0.2187 - mean_absolute_error: 0.2187 - acc: 0.7901\n",
      "Epoch 11/35\n",
      "891/891 [==============================] - 0s 28us/step - loss: 0.2176 - mean_absolute_error: 0.2176 - acc: 0.7901\n",
      "Epoch 12/35\n",
      "891/891 [==============================] - 0s 28us/step - loss: 0.2161 - mean_absolute_error: 0.2161 - acc: 0.7901\n",
      "Epoch 13/35\n",
      "891/891 [==============================] - 0s 28us/step - loss: 0.2171 - mean_absolute_error: 0.2171 - acc: 0.7901\n",
      "Epoch 14/35\n",
      "891/891 [==============================] - 0s 28us/step - loss: 0.2202 - mean_absolute_error: 0.2202 - acc: 0.7912\n",
      "Epoch 15/35\n",
      "891/891 [==============================] - 0s 28us/step - loss: 0.2225 - mean_absolute_error: 0.2225 - acc: 0.7924\n",
      "Epoch 16/35\n",
      "891/891 [==============================] - 0s 28us/step - loss: 0.2230 - mean_absolute_error: 0.2230 - acc: 0.7924\n",
      "Epoch 17/35\n",
      "891/891 [==============================] - 0s 29us/step - loss: 0.2164 - mean_absolute_error: 0.2164 - acc: 0.7901\n",
      "Epoch 18/35\n",
      "891/891 [==============================] - 0s 28us/step - loss: 0.2207 - mean_absolute_error: 0.2207 - acc: 0.7901\n",
      "Epoch 19/35\n",
      "891/891 [==============================] - 0s 28us/step - loss: 0.2196 - mean_absolute_error: 0.2196 - acc: 0.7901\n",
      "Epoch 20/35\n",
      "891/891 [==============================] - 0s 27us/step - loss: 0.2179 - mean_absolute_error: 0.2179 - acc: 0.7912\n",
      "Epoch 21/35\n",
      "891/891 [==============================] - 0s 29us/step - loss: 0.2170 - mean_absolute_error: 0.2170 - acc: 0.7924\n",
      "Epoch 22/35\n",
      "891/891 [==============================] - 0s 30us/step - loss: 0.2161 - mean_absolute_error: 0.2161 - acc: 0.7935\n",
      "Epoch 23/35\n",
      "891/891 [==============================] - 0s 29us/step - loss: 0.2176 - mean_absolute_error: 0.2176 - acc: 0.7935\n",
      "Epoch 24/35\n",
      "891/891 [==============================] - 0s 29us/step - loss: 0.2178 - mean_absolute_error: 0.2178 - acc: 0.7924\n",
      "Epoch 25/35\n",
      "891/891 [==============================] - 0s 27us/step - loss: 0.2157 - mean_absolute_error: 0.2157 - acc: 0.7924\n",
      "Epoch 26/35\n",
      "891/891 [==============================] - 0s 28us/step - loss: 0.2181 - mean_absolute_error: 0.2181 - acc: 0.7901\n",
      "Epoch 27/35\n",
      "891/891 [==============================] - 0s 28us/step - loss: 0.2215 - mean_absolute_error: 0.2215 - acc: 0.7935\n",
      "Epoch 28/35\n",
      "891/891 [==============================] - 0s 31us/step - loss: 0.2224 - mean_absolute_error: 0.2224 - acc: 0.7924\n",
      "Epoch 29/35\n",
      "891/891 [==============================] - 0s 29us/step - loss: 0.2230 - mean_absolute_error: 0.2230 - acc: 0.7969\n",
      "Epoch 30/35\n",
      "891/891 [==============================] - 0s 29us/step - loss: 0.2227 - mean_absolute_error: 0.2227 - acc: 0.7980\n",
      "Epoch 31/35\n",
      "891/891 [==============================] - 0s 28us/step - loss: 0.2172 - mean_absolute_error: 0.2172 - acc: 0.7924\n",
      "Epoch 32/35\n",
      "891/891 [==============================] - 0s 28us/step - loss: 0.2187 - mean_absolute_error: 0.2187 - acc: 0.7935\n",
      "Epoch 33/35\n",
      "891/891 [==============================] - 0s 28us/step - loss: 0.2158 - mean_absolute_error: 0.2158 - acc: 0.7924\n",
      "Epoch 34/35\n",
      "891/891 [==============================] - 0s 29us/step - loss: 0.2167 - mean_absolute_error: 0.2167 - acc: 0.7946\n",
      "Epoch 35/35\n",
      "891/891 [==============================] - 0s 29us/step - loss: 0.2146 - mean_absolute_error: 0.2146 - acc: 0.7935\n"
     ]
    },
    {
     "data": {
      "text/plain": [
       "<keras.callbacks.History at 0x7f21468ba630>"
      ]
     },
     "execution_count": 10,
     "metadata": {},
     "output_type": "execute_result"
    }
   ],
   "source": [
    "classifier.fit(X,y) # fitting the input using the model."
   ]
  },
  {
   "cell_type": "code",
   "execution_count": 11,
   "metadata": {},
   "outputs": [
    {
     "data": {
      "text/html": [
       "<div>\n",
       "<style scoped>\n",
       "    .dataframe tbody tr th:only-of-type {\n",
       "        vertical-align: middle;\n",
       "    }\n",
       "\n",
       "    .dataframe tbody tr th {\n",
       "        vertical-align: top;\n",
       "    }\n",
       "\n",
       "    .dataframe thead th {\n",
       "        text-align: right;\n",
       "    }\n",
       "</style>\n",
       "<table border=\"1\" class=\"dataframe\">\n",
       "  <thead>\n",
       "    <tr style=\"text-align: right;\">\n",
       "      <th></th>\n",
       "      <th>PassengerId</th>\n",
       "      <th>Pclass</th>\n",
       "      <th>Name</th>\n",
       "      <th>Sex</th>\n",
       "      <th>Age</th>\n",
       "      <th>SibSp</th>\n",
       "      <th>Parch</th>\n",
       "      <th>Ticket</th>\n",
       "      <th>Fare</th>\n",
       "      <th>Cabin</th>\n",
       "      <th>Embarked</th>\n",
       "    </tr>\n",
       "  </thead>\n",
       "  <tbody>\n",
       "    <tr>\n",
       "      <th>0</th>\n",
       "      <td>892</td>\n",
       "      <td>3</td>\n",
       "      <td>Kelly, Mr. James</td>\n",
       "      <td>male</td>\n",
       "      <td>34.5</td>\n",
       "      <td>0</td>\n",
       "      <td>0</td>\n",
       "      <td>330911</td>\n",
       "      <td>7.8292</td>\n",
       "      <td>NaN</td>\n",
       "      <td>Q</td>\n",
       "    </tr>\n",
       "    <tr>\n",
       "      <th>1</th>\n",
       "      <td>893</td>\n",
       "      <td>3</td>\n",
       "      <td>Wilkes, Mrs. James (Ellen Needs)</td>\n",
       "      <td>female</td>\n",
       "      <td>47.0</td>\n",
       "      <td>1</td>\n",
       "      <td>0</td>\n",
       "      <td>363272</td>\n",
       "      <td>7.0000</td>\n",
       "      <td>NaN</td>\n",
       "      <td>S</td>\n",
       "    </tr>\n",
       "    <tr>\n",
       "      <th>2</th>\n",
       "      <td>894</td>\n",
       "      <td>2</td>\n",
       "      <td>Myles, Mr. Thomas Francis</td>\n",
       "      <td>male</td>\n",
       "      <td>62.0</td>\n",
       "      <td>0</td>\n",
       "      <td>0</td>\n",
       "      <td>240276</td>\n",
       "      <td>9.6875</td>\n",
       "      <td>NaN</td>\n",
       "      <td>Q</td>\n",
       "    </tr>\n",
       "    <tr>\n",
       "      <th>3</th>\n",
       "      <td>895</td>\n",
       "      <td>3</td>\n",
       "      <td>Wirz, Mr. Albert</td>\n",
       "      <td>male</td>\n",
       "      <td>27.0</td>\n",
       "      <td>0</td>\n",
       "      <td>0</td>\n",
       "      <td>315154</td>\n",
       "      <td>8.6625</td>\n",
       "      <td>NaN</td>\n",
       "      <td>S</td>\n",
       "    </tr>\n",
       "    <tr>\n",
       "      <th>4</th>\n",
       "      <td>896</td>\n",
       "      <td>3</td>\n",
       "      <td>Hirvonen, Mrs. Alexander (Helga E Lindqvist)</td>\n",
       "      <td>female</td>\n",
       "      <td>22.0</td>\n",
       "      <td>1</td>\n",
       "      <td>1</td>\n",
       "      <td>3101298</td>\n",
       "      <td>12.2875</td>\n",
       "      <td>NaN</td>\n",
       "      <td>S</td>\n",
       "    </tr>\n",
       "  </tbody>\n",
       "</table>\n",
       "</div>"
      ],
      "text/plain": [
       "   PassengerId  Pclass                                          Name     Sex  \\\n",
       "0          892       3                              Kelly, Mr. James    male   \n",
       "1          893       3              Wilkes, Mrs. James (Ellen Needs)  female   \n",
       "2          894       2                     Myles, Mr. Thomas Francis    male   \n",
       "3          895       3                              Wirz, Mr. Albert    male   \n",
       "4          896       3  Hirvonen, Mrs. Alexander (Helga E Lindqvist)  female   \n",
       "\n",
       "    Age  SibSp  Parch   Ticket     Fare Cabin Embarked  \n",
       "0  34.5      0      0   330911   7.8292   NaN        Q  \n",
       "1  47.0      1      0   363272   7.0000   NaN        S  \n",
       "2  62.0      0      0   240276   9.6875   NaN        Q  \n",
       "3  27.0      0      0   315154   8.6625   NaN        S  \n",
       "4  22.0      1      1  3101298  12.2875   NaN        S  "
      ]
     },
     "execution_count": 11,
     "metadata": {},
     "output_type": "execute_result"
    }
   ],
   "source": [
    "df1.head() # analyzing the test data"
   ]
  },
  {
   "cell_type": "code",
   "execution_count": 12,
   "metadata": {},
   "outputs": [],
   "source": [
    "X_test = df1.drop(columns = ['PassengerId', 'Ticket','Cabin'])"
   ]
  },
  {
   "cell_type": "code",
   "execution_count": 13,
   "metadata": {},
   "outputs": [],
   "source": [
    "X_test, y_test = preprocessing(X_test, y = pd.Series(0)) # Pre-preocessing the test data. y = pd.Series(0) is used here just to ensure that there are 2 inputs to the funcion, it has no significance in our model."
   ]
  },
  {
   "cell_type": "code",
   "execution_count": 14,
   "metadata": {},
   "outputs": [],
   "source": [
    "y_pred = classifier.predict(np.array(X_test)) # predicting the required label,i.e., 'Survived'.\n",
    "y_pred = y_pred.reshape(418, ).astype('int64')"
   ]
  },
  {
   "cell_type": "code",
   "execution_count": 15,
   "metadata": {},
   "outputs": [],
   "source": [
    "submission = pd.DataFrame({'PassengerId':df1['PassengerId'],'Survived':y_pred}) # preparing a submission dataframe."
   ]
  },
  {
   "cell_type": "code",
   "execution_count": 16,
   "metadata": {},
   "outputs": [
    {
     "data": {
      "text/html": [
       "<div>\n",
       "<style scoped>\n",
       "    .dataframe tbody tr th:only-of-type {\n",
       "        vertical-align: middle;\n",
       "    }\n",
       "\n",
       "    .dataframe tbody tr th {\n",
       "        vertical-align: top;\n",
       "    }\n",
       "\n",
       "    .dataframe thead th {\n",
       "        text-align: right;\n",
       "    }\n",
       "</style>\n",
       "<table border=\"1\" class=\"dataframe\">\n",
       "  <thead>\n",
       "    <tr style=\"text-align: right;\">\n",
       "      <th></th>\n",
       "      <th>PassengerId</th>\n",
       "      <th>Survived</th>\n",
       "    </tr>\n",
       "  </thead>\n",
       "  <tbody>\n",
       "    <tr>\n",
       "      <th>0</th>\n",
       "      <td>892</td>\n",
       "      <td>0</td>\n",
       "    </tr>\n",
       "    <tr>\n",
       "      <th>1</th>\n",
       "      <td>893</td>\n",
       "      <td>1</td>\n",
       "    </tr>\n",
       "    <tr>\n",
       "      <th>2</th>\n",
       "      <td>894</td>\n",
       "      <td>0</td>\n",
       "    </tr>\n",
       "    <tr>\n",
       "      <th>3</th>\n",
       "      <td>895</td>\n",
       "      <td>0</td>\n",
       "    </tr>\n",
       "    <tr>\n",
       "      <th>4</th>\n",
       "      <td>896</td>\n",
       "      <td>1</td>\n",
       "    </tr>\n",
       "  </tbody>\n",
       "</table>\n",
       "</div>"
      ],
      "text/plain": [
       "   PassengerId  Survived\n",
       "0          892         0\n",
       "1          893         1\n",
       "2          894         0\n",
       "3          895         0\n",
       "4          896         1"
      ]
     },
     "execution_count": 16,
     "metadata": {},
     "output_type": "execute_result"
    }
   ],
   "source": [
    "submission.head() "
   ]
  },
  {
   "cell_type": "code",
   "execution_count": 17,
   "metadata": {},
   "outputs": [],
   "source": [
    "filename = 'submission.csv'\n",
    "submission.to_csv(filename, index = False) # converting the submission file to .csv format."
   ]
  },
  {
   "cell_type": "code",
   "execution_count": 18,
   "metadata": {},
   "outputs": [],
   "source": [
    "df2 = pd.read_csv('../input/gender_submission.csv')\n",
    "df2.head()\n",
    "y_test = df2['Survived']"
   ]
  },
  {
   "cell_type": "code",
   "execution_count": 19,
   "metadata": {},
   "outputs": [
    {
     "name": "stdout",
     "output_type": "stream",
     "text": [
      "              precision    recall  f1-score   support\n",
      "\n",
      "           0       0.99      1.00      0.99       266\n",
      "           1       1.00      0.98      0.99       152\n",
      "\n",
      "    accuracy                           0.99       418\n",
      "   macro avg       0.99      0.99      0.99       418\n",
      "weighted avg       0.99      0.99      0.99       418\n",
      "\n"
     ]
    }
   ],
   "source": [
    "from sklearn.metrics import classification_report\n",
    "print(classification_report(y_test, y_pred))"
   ]
  },
  {
   "cell_type": "code",
   "execution_count": null,
   "metadata": {},
   "outputs": [],
   "source": []
  }
 ],
 "metadata": {
  "kernelspec": {
   "display_name": "Python 3",
   "language": "python",
   "name": "python3"
  },
  "language_info": {
   "codemirror_mode": {
    "name": "ipython",
    "version": 3
   },
   "file_extension": ".py",
   "mimetype": "text/x-python",
   "name": "python",
   "nbconvert_exporter": "python",
   "pygments_lexer": "ipython3",
   "version": "3.6.6"
  }
 },
 "nbformat": 4,
 "nbformat_minor": 1
}
